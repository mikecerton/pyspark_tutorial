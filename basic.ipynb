{
 "cells": [
  {
   "cell_type": "code",
   "execution_count": null,
   "metadata": {},
   "outputs": [
    {
     "name": "stdout",
     "output_type": "stream",
     "text": [
      "hello world\n"
     ]
    }
   ],
   "source": [
    "from pyspark.sql import SparkSession\n",
    "\n",
    "# Start a Spark session\n",
    "spark = SparkSession.builder \\\n",
    "    .appName(\"Basic PySpark Example\") \\\n",
    "    .getOrCreate()\n",
    "\n",
    "# Load a CSV file\n",
    "data = spark.read.csv(\"path/to/your_file.csv\", header=True, inferSchema=True)\n",
    "\n",
    "# Select columns and filter data\n",
    "data = data.select(\"column1\", \"column2\")\n",
    "filtered_data = data.filter(data[\"column1\"] > 100)\n",
    "\n",
    "# Group by a column and count occurrences\n",
    "grouped_data = data.groupBy(\"column2\").count()\n",
    "\n",
    "# Show results\n",
    "filtered_data.show()\n",
    "grouped_data.show()\n",
    "\n",
    "# Stop the Spark session\n",
    "spark.stop()\n"
   ]
  }
 ],
 "metadata": {
  "kernelspec": {
   "display_name": "Python 3",
   "language": "python",
   "name": "python3"
  },
  "language_info": {
   "codemirror_mode": {
    "name": "ipython",
    "version": 3
   },
   "file_extension": ".py",
   "mimetype": "text/x-python",
   "name": "python",
   "nbconvert_exporter": "python",
   "pygments_lexer": "ipython3",
   "version": "3.10.11"
  }
 },
 "nbformat": 4,
 "nbformat_minor": 2
}
